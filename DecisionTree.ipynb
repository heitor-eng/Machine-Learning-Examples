{
  "nbformat": 4,
  "nbformat_minor": 0,
  "metadata": {
    "colab": {
      "name": "DecisionTree.ipynb",
      "provenance": [],
      "authorship_tag": "ABX9TyPQpwv4CJUmlIwc60WgF8Ge",
      "include_colab_link": true
    },
    "kernelspec": {
      "name": "python3",
      "display_name": "Python 3"
    },
    "language_info": {
      "name": "python"
    }
  },
  "cells": [
    {
      "cell_type": "markdown",
      "metadata": {
        "id": "view-in-github",
        "colab_type": "text"
      },
      "source": [
        "<a href=\"https://colab.research.google.com/github/heitor-eng/Machine-Learning-Examples/blob/main/DecisionTree.ipynb\" target=\"_parent\"><img src=\"https://colab.research.google.com/assets/colab-badge.svg\" alt=\"Open In Colab\"/></a>"
      ]
    },
    {
      "cell_type": "markdown",
      "source": [
        "# Entendendo Decision Tree\n",
        "\n",
        "## Conceitos:\n",
        "\n",
        "Árvore de decisão é um dos diversos algorítmos de machine learning, para análises iniciais e uma maneira inicial de começar a entender como está sendo feita a divisão dos dados.\n",
        "\n",
        "[Decision Tree Regressor - Scikit Learn](https://scikit-learn.org/stable/modules/generated/sklearn.tree.DecisionTreeRegressor.html#sklearn.tree.DecisionTreeRegressor).\n",
        "\n"
      ],
      "metadata": {
        "id": "TVvprgCD9OJB"
      }
    },
    {
      "cell_type": "code",
      "execution_count": 1,
      "metadata": {
        "id": "yL1CTzn8LJzN"
      },
      "outputs": [],
      "source": [
        "import pandas as pd\n",
        "import numpy as np\n"
      ]
    },
    {
      "cell_type": "code",
      "source": [
        "data = pd.read_csv(\"/content/sample_data/california_housing_train.csv\")\n",
        "\n",
        "data.head()"
      ],
      "metadata": {
        "colab": {
          "base_uri": "https://localhost:8080/",
          "height": 206
        },
        "id": "2TXSHSb9fdeW",
        "outputId": "a02c9c4a-4aa7-4ce3-fc74-601bb9049140"
      },
      "execution_count": 2,
      "outputs": [
        {
          "output_type": "execute_result",
          "data": {
            "text/html": [
              "\n",
              "  <div id=\"df-e65fe73b-40de-4127-b82a-43a7bc6143c0\">\n",
              "    <div class=\"colab-df-container\">\n",
              "      <div>\n",
              "<style scoped>\n",
              "    .dataframe tbody tr th:only-of-type {\n",
              "        vertical-align: middle;\n",
              "    }\n",
              "\n",
              "    .dataframe tbody tr th {\n",
              "        vertical-align: top;\n",
              "    }\n",
              "\n",
              "    .dataframe thead th {\n",
              "        text-align: right;\n",
              "    }\n",
              "</style>\n",
              "<table border=\"1\" class=\"dataframe\">\n",
              "  <thead>\n",
              "    <tr style=\"text-align: right;\">\n",
              "      <th></th>\n",
              "      <th>longitude</th>\n",
              "      <th>latitude</th>\n",
              "      <th>housing_median_age</th>\n",
              "      <th>total_rooms</th>\n",
              "      <th>total_bedrooms</th>\n",
              "      <th>population</th>\n",
              "      <th>households</th>\n",
              "      <th>median_income</th>\n",
              "      <th>median_house_value</th>\n",
              "    </tr>\n",
              "  </thead>\n",
              "  <tbody>\n",
              "    <tr>\n",
              "      <th>0</th>\n",
              "      <td>-114.31</td>\n",
              "      <td>34.19</td>\n",
              "      <td>15.0</td>\n",
              "      <td>5612.0</td>\n",
              "      <td>1283.0</td>\n",
              "      <td>1015.0</td>\n",
              "      <td>472.0</td>\n",
              "      <td>1.4936</td>\n",
              "      <td>66900.0</td>\n",
              "    </tr>\n",
              "    <tr>\n",
              "      <th>1</th>\n",
              "      <td>-114.47</td>\n",
              "      <td>34.40</td>\n",
              "      <td>19.0</td>\n",
              "      <td>7650.0</td>\n",
              "      <td>1901.0</td>\n",
              "      <td>1129.0</td>\n",
              "      <td>463.0</td>\n",
              "      <td>1.8200</td>\n",
              "      <td>80100.0</td>\n",
              "    </tr>\n",
              "    <tr>\n",
              "      <th>2</th>\n",
              "      <td>-114.56</td>\n",
              "      <td>33.69</td>\n",
              "      <td>17.0</td>\n",
              "      <td>720.0</td>\n",
              "      <td>174.0</td>\n",
              "      <td>333.0</td>\n",
              "      <td>117.0</td>\n",
              "      <td>1.6509</td>\n",
              "      <td>85700.0</td>\n",
              "    </tr>\n",
              "    <tr>\n",
              "      <th>3</th>\n",
              "      <td>-114.57</td>\n",
              "      <td>33.64</td>\n",
              "      <td>14.0</td>\n",
              "      <td>1501.0</td>\n",
              "      <td>337.0</td>\n",
              "      <td>515.0</td>\n",
              "      <td>226.0</td>\n",
              "      <td>3.1917</td>\n",
              "      <td>73400.0</td>\n",
              "    </tr>\n",
              "    <tr>\n",
              "      <th>4</th>\n",
              "      <td>-114.57</td>\n",
              "      <td>33.57</td>\n",
              "      <td>20.0</td>\n",
              "      <td>1454.0</td>\n",
              "      <td>326.0</td>\n",
              "      <td>624.0</td>\n",
              "      <td>262.0</td>\n",
              "      <td>1.9250</td>\n",
              "      <td>65500.0</td>\n",
              "    </tr>\n",
              "  </tbody>\n",
              "</table>\n",
              "</div>\n",
              "      <button class=\"colab-df-convert\" onclick=\"convertToInteractive('df-e65fe73b-40de-4127-b82a-43a7bc6143c0')\"\n",
              "              title=\"Convert this dataframe to an interactive table.\"\n",
              "              style=\"display:none;\">\n",
              "        \n",
              "  <svg xmlns=\"http://www.w3.org/2000/svg\" height=\"24px\"viewBox=\"0 0 24 24\"\n",
              "       width=\"24px\">\n",
              "    <path d=\"M0 0h24v24H0V0z\" fill=\"none\"/>\n",
              "    <path d=\"M18.56 5.44l.94 2.06.94-2.06 2.06-.94-2.06-.94-.94-2.06-.94 2.06-2.06.94zm-11 1L8.5 8.5l.94-2.06 2.06-.94-2.06-.94L8.5 2.5l-.94 2.06-2.06.94zm10 10l.94 2.06.94-2.06 2.06-.94-2.06-.94-.94-2.06-.94 2.06-2.06.94z\"/><path d=\"M17.41 7.96l-1.37-1.37c-.4-.4-.92-.59-1.43-.59-.52 0-1.04.2-1.43.59L10.3 9.45l-7.72 7.72c-.78.78-.78 2.05 0 2.83L4 21.41c.39.39.9.59 1.41.59.51 0 1.02-.2 1.41-.59l7.78-7.78 2.81-2.81c.8-.78.8-2.07 0-2.86zM5.41 20L4 18.59l7.72-7.72 1.47 1.35L5.41 20z\"/>\n",
              "  </svg>\n",
              "      </button>\n",
              "      \n",
              "  <style>\n",
              "    .colab-df-container {\n",
              "      display:flex;\n",
              "      flex-wrap:wrap;\n",
              "      gap: 12px;\n",
              "    }\n",
              "\n",
              "    .colab-df-convert {\n",
              "      background-color: #E8F0FE;\n",
              "      border: none;\n",
              "      border-radius: 50%;\n",
              "      cursor: pointer;\n",
              "      display: none;\n",
              "      fill: #1967D2;\n",
              "      height: 32px;\n",
              "      padding: 0 0 0 0;\n",
              "      width: 32px;\n",
              "    }\n",
              "\n",
              "    .colab-df-convert:hover {\n",
              "      background-color: #E2EBFA;\n",
              "      box-shadow: 0px 1px 2px rgba(60, 64, 67, 0.3), 0px 1px 3px 1px rgba(60, 64, 67, 0.15);\n",
              "      fill: #174EA6;\n",
              "    }\n",
              "\n",
              "    [theme=dark] .colab-df-convert {\n",
              "      background-color: #3B4455;\n",
              "      fill: #D2E3FC;\n",
              "    }\n",
              "\n",
              "    [theme=dark] .colab-df-convert:hover {\n",
              "      background-color: #434B5C;\n",
              "      box-shadow: 0px 1px 3px 1px rgba(0, 0, 0, 0.15);\n",
              "      filter: drop-shadow(0px 1px 2px rgba(0, 0, 0, 0.3));\n",
              "      fill: #FFFFFF;\n",
              "    }\n",
              "  </style>\n",
              "\n",
              "      <script>\n",
              "        const buttonEl =\n",
              "          document.querySelector('#df-e65fe73b-40de-4127-b82a-43a7bc6143c0 button.colab-df-convert');\n",
              "        buttonEl.style.display =\n",
              "          google.colab.kernel.accessAllowed ? 'block' : 'none';\n",
              "\n",
              "        async function convertToInteractive(key) {\n",
              "          const element = document.querySelector('#df-e65fe73b-40de-4127-b82a-43a7bc6143c0');\n",
              "          const dataTable =\n",
              "            await google.colab.kernel.invokeFunction('convertToInteractive',\n",
              "                                                     [key], {});\n",
              "          if (!dataTable) return;\n",
              "\n",
              "          const docLinkHtml = 'Like what you see? Visit the ' +\n",
              "            '<a target=\"_blank\" href=https://colab.research.google.com/notebooks/data_table.ipynb>data table notebook</a>'\n",
              "            + ' to learn more about interactive tables.';\n",
              "          element.innerHTML = '';\n",
              "          dataTable['output_type'] = 'display_data';\n",
              "          await google.colab.output.renderOutput(dataTable, element);\n",
              "          const docLink = document.createElement('div');\n",
              "          docLink.innerHTML = docLinkHtml;\n",
              "          element.appendChild(docLink);\n",
              "        }\n",
              "      </script>\n",
              "    </div>\n",
              "  </div>\n",
              "  "
            ],
            "text/plain": [
              "   longitude  latitude  ...  median_income  median_house_value\n",
              "0    -114.31     34.19  ...         1.4936             66900.0\n",
              "1    -114.47     34.40  ...         1.8200             80100.0\n",
              "2    -114.56     33.69  ...         1.6509             85700.0\n",
              "3    -114.57     33.64  ...         3.1917             73400.0\n",
              "4    -114.57     33.57  ...         1.9250             65500.0\n",
              "\n",
              "[5 rows x 9 columns]"
            ]
          },
          "metadata": {},
          "execution_count": 2
        }
      ]
    },
    {
      "cell_type": "markdown",
      "source": [
        "**OVERFITTING**\n",
        "\n",
        "<p align=center>\n",
        "<img src=\"https://github.com/heitor-eng/H_Data_Science/blob/master/Imagens/OVER%20e%20UNDER%20fitting.png?raw=true\" width=\"60%\"></p>\n",
        "\n",
        "\"O overfitting como pode-se observar no primeiro gráfico, mostra a linha prevista cobre todos os pontos no gráfico. Nessa condição, podemos pensar que é um bom modelo, pois, cobre todos os pontos sem erro algum. Mas isso não é verdade, a linha prevista no gráfico abrange todos os pontos que são ruídos e discrepantes. Esse modelo também é responsável por prever resultados ruins devido à sua alta complexidade, também chamado de alta variância (high variance).\n",
        "\n",
        "Quando o modelo aprende sinais e ruídos nos dados de treinamento e não tem um bom desempenho em novos dados sobre os quais o modelo não foi treinado.\n",
        "\n",
        "Na relaçâo viés e variância tem-se que, o viés é reduzido e a variação aumenta em relação à complexidade do modelo. Quanto mais parâmetros são adicionados a um modelo, a complexidade do modelo aumenta e a variação se torna nossa principal preocupação, enquanto o viés diminui constantemente.\"\n",
        "\n",
        "Fonte: [Dados Aleatórios](https://www.dadosaleatorios.com.br/post/overfitting/)"
      ],
      "metadata": {
        "id": "IxCBw-VAQnLa"
      }
    },
    {
      "cell_type": "code",
      "source": [
        "from sklearn.tree import DecisionTreeRegressor, plot_tree\n",
        "from sklearn.model_selection import train_test_split\n",
        "from sklearn.metrics import mean_squared_error\n",
        "%pylab inline"
      ],
      "metadata": {
        "id": "2iezqCQhf2CA",
        "colab": {
          "base_uri": "https://localhost:8080/"
        },
        "outputId": "098d75f3-bb8b-4f61-ddee-7857def4869d"
      },
      "execution_count": 18,
      "outputs": [
        {
          "output_type": "stream",
          "name": "stdout",
          "text": [
            "Populating the interactive namespace from numpy and matplotlib\n"
          ]
        }
      ]
    },
    {
      "cell_type": "code",
      "source": [
        "X = data.drop('median_house_value', axis = 1)\n",
        "y = data['median_house_value']\n",
        "\n",
        "Xtr, Xval, ytr, yval = train_test_split(X, y,test_size = 0.5, random_state = 0)\n",
        "\n",
        "tree = DecisionTreeRegressor(max_depth=13)\n",
        "tree.fit(Xtr,ytr)\n",
        "\n",
        "p = tree.predict(Xval)\n",
        "\n",
        "np.sqrt(mean_squared_error(yval,p))"
      ],
      "metadata": {
        "id": "CDgonsiKgn_j",
        "colab": {
          "base_uri": "https://localhost:8080/"
        },
        "outputId": "ff700d4c-1a1b-4ae6-bc34-938abe76c7b0"
      },
      "execution_count": 34,
      "outputs": [
        {
          "output_type": "execute_result",
          "data": {
            "text/plain": [
              "69334.90443788667"
            ]
          },
          "metadata": {},
          "execution_count": 34
        }
      ]
    },
    {
      "cell_type": "markdown",
      "source": [
        "O erro médio quadrado (`mean_squared_error`) para uma situação infinita `tree = DecisionTreeRegressor()` sem parâmetros definidos.\n",
        "\n",
        "Isso acontece porquê quanto mais profunda for a árvore de decisão, maiores são as chances dela sofrer **overfitting**. Isso acontece pois a árvore de decisão vai em busca de parâmetros que tendem a reduzir cada vez mais as impurezas dos nós, e com isso temos perda de otimização do processamento.\n",
        "\n",
        "Resumindo: Para cada _feature_ a árvore vai explorar o melhor ponto de corte.\n",
        "\n",
        "Exemplo:\n",
        "features = área de quartos\n",
        "\n",
        "area < 1000\n",
        "\n",
        "pureza dos nós?\n",
        "\n",
        "area < 500\n",
        "\n",
        "pureza?\n",
        "\n",
        "\n",
        "\n",
        "---\n",
        "Para resolver esses problemas de overfitting existe o parâmetro `max_depth`  \n",
        "\n",
        "> Sem utilizar esse parâmetro o erro ao quadrado fica : 73319.06193196644\n",
        "\n",
        "Agora quando usa-se `max_depth = 1`: 96156.45813876118 o erro ao quadrado é maior, porém aqui o que estou tentando encontrar é o ponto ótimo do erro ao quadrado, ou seja, até qual profundidade consigo atingir nas subdivisões sem causar o overfittig.\n",
        "\n",
        "Eu sei o limite quando passar o valor de 73319.061931, pois esse é o valor que o algorítmo calcula sem ter nenhum limite estabelecido.\n",
        "\n",
        "Com o parâmetro de `max_depth= 13` tem uma melhora de que o erro quadrado médio fica entre 69334.90443788667 e após isso ele volta  subir o erro quadrado médio.\n"
      ],
      "metadata": {
        "id": "-oNOaCSEemPR"
      }
    },
    {
      "cell_type": "code",
      "source": [
        "pylab.figure(figsize=(15,10))\n",
        "plot_tree(tree, feature_names= Xtr.columns)"
      ],
      "metadata": {
        "colab": {
          "base_uri": "https://localhost:8080/",
          "height": 697
        },
        "id": "QoJ3P96rji-6",
        "outputId": "a610c56f-208b-4b64-fd28-605e0ef7777f"
      },
      "execution_count": 23,
      "outputs": [
        {
          "output_type": "execute_result",
          "data": {
            "text/plain": [
              "[Text(418.5, 453.0, 'median_income <= 5.02\\nsquared_error = 13557558368.64\\nsamples = 8500\\nvalue = 207877.802'),\n",
              " Text(209.25, 271.8, 'median_income <= 2.832\\nsquared_error = 8408672354.196\\nsamples = 6650\\nvalue = 173230.209'),\n",
              " Text(104.625, 90.59999999999997, 'squared_error = 5232614885.519\\nsamples = 2683\\nvalue = 128413.198'),\n",
              " Text(313.875, 90.59999999999997, 'squared_error = 8279521231.512\\nsamples = 3967\\nvalue = 203541.285'),\n",
              " Text(627.75, 271.8, 'median_income <= 6.829\\nsquared_error = 12239344139.08\\nsamples = 1850\\nvalue = 332421.852'),\n",
              " Text(523.125, 90.59999999999997, 'squared_error = 8808047041.751\\nsamples = 1275\\nvalue = 291458.88'),\n",
              " Text(732.375, 90.59999999999997, 'squared_error = 7876907783.956\\nsamples = 575\\nvalue = 423252.791')]"
            ]
          },
          "metadata": {},
          "execution_count": 23
        },
        {
          "output_type": "display_data",
          "data": {
            "image/png": "[encoded data removed]",
            "text/plain": [
              "<Figure size 1080x720 with 1 Axes>"
            ]
          },
          "metadata": {
            "needs_background": "light"
          }
        }
      ]
    },
    {
      "cell_type": "markdown",
      "source": [
        "### `Min_sample_leaf`\n",
        "\n",
        "Permite o número mínimo de exemplos finais na árvore de decisão. O bom desse parâmetro é que conseguimos ter definido uma quantidade limite de amostras sem ter que ficar descobrindo os parâmetros antes do overfitting. Ou seja, estabeleço um valor X de exemplos e assim consigo ver a média.\n"
      ],
      "metadata": {
        "id": "LNpEdcdclcOA"
      }
    },
    {
      "cell_type": "code",
      "source": [
        "from pandas.core.common import random_state\n",
        "X = data.drop('median_house_value', axis = 1)\n",
        "y = data['median_house_value']\n",
        "\n",
        "Xtr, Xval, ytr, yval = train_test_split(X, y,test_size = 0.5, random_state = 0)\n",
        "\n",
        "tree = DecisionTreeRegressor(min_samples_leaf=14, random_state=0)\n",
        "tree.fit(Xtr,ytr)\n",
        "\n",
        "p = tree.predict(Xval)\n",
        "\n",
        "np.sqrt(mean_squared_error(yval,p))"
      ],
      "metadata": {
        "colab": {
          "base_uri": "https://localhost:8080/"
        },
        "id": "7M_IcWf3mcbe",
        "outputId": "cda2f7ca-4cac-40d1-a3e5-ace95d3bb4a3"
      },
      "execution_count": 39,
      "outputs": [
        {
          "output_type": "execute_result",
          "data": {
            "text/plain": [
              "62290.429553839494"
            ]
          },
          "metadata": {},
          "execution_count": 39
        }
      ]
    }
  ]
}